{
 "cells": [
  {
   "cell_type": "code",
   "execution_count": 1,
   "id": "8db948ed-ab47-43d2-a14d-4a091c85e965",
   "metadata": {},
   "outputs": [
    {
     "name": "stdout",
     "output_type": "stream",
     "text": [
      "0.7988645544629797\n",
      "34.1656913866384\n"
     ]
    },
    {
     "data": {
      "image/png": "[encoded data removed]",
      "text/plain": [
       "<Figure size 432x288 with 1 Axes>"
      ]
     },
     "metadata": {
      "needs_background": "light"
     },
     "output_type": "display_data"
    }
   ],
   "source": [
    "import numpy\n",
    "import matplotlib.pyplot as plt\n",
    "from sklearn.metrics import r2_score\n",
    "numpy.random.seed(2)\n",
    "\n",
    "x = numpy.random.normal(3, 1, 100)\n",
    "y = numpy.random.normal(150, 40, 100) / x\n",
    "\n",
    "train_x = x[:80]\n",
    "train_y = y[:80]\n",
    "\n",
    "test_x = x[80:]\n",
    "test_y = y[80:]\n",
    "\n",
    "mymodel = numpy.poly1d(numpy.polyfit(train_x, train_y, 4))\n",
    "\n",
    "myline = numpy.linspace(0, 6, 100)\n",
    "r2 = r2_score(train_y, mymodel(train_x))\n",
    "\n",
    "print(r2)\n",
    "print(mymodel(4))#the amount of money spent at 4 mins is 34.16dollars\n",
    "plt.scatter(train_x, train_y)\n",
    "plt.plot(myline, mymodel(myline))\n",
    "plt.show()"
   ]
  },
  {
   "cell_type": "code",
   "execution_count": 2,
   "id": "80fd8bb4-684e-46bd-90d5-e052cd0d637e",
   "metadata": {},
   "outputs": [
    {
     "name": "stdout",
     "output_type": "stream",
     "text": [
      "22.87962591811811\n",
      "0.8086921460343581\n"
     ]
    }
   ],
   "source": [
    "import numpy\n",
    "from sklearn.metrics import r2_score\n",
    "numpy.random.seed(2)\n",
    "\n",
    "x = numpy.random.normal(3, 1, 100)\n",
    "y = numpy.random.normal(150, 40, 100) / x\n",
    "\n",
    "train_x = x[:80]\n",
    "train_y = y[:80]\n",
    "\n",
    "test_x = x[80:]\n",
    "test_y = y[80:]\n",
    "\n",
    "mymodel = numpy.poly1d(numpy.polyfit(train_x, train_y, 4))\n",
    "\n",
    "r2 = r2_score(test_y, mymodel(test_x))\n",
    "print(mymodel(5)) # the amount of money spent at 5mins is 22.87dollars\n",
    "print(r2)"
   ]
  }
 ],
 "metadata": {
  "kernelspec": {
   "display_name": "Python 3 (ipykernel)",
   "language": "python",
   "name": "python3"
  },
  "language_info": {
   "codemirror_mode": {
    "name": "ipython",
    "version": 3
   },
   "file_extension": ".py",
   "mimetype": "text/x-python",
   "name": "python",
   "nbconvert_exporter": "python",
   "pygments_lexer": "ipython3",
   "version": "3.9.5"
  }
 },
 "nbformat": 4,
 "nbformat_minor": 5
}
